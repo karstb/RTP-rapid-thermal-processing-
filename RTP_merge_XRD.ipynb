{
 "cells": [
  {
   "cell_type": "markdown",
   "metadata": {},
   "source": [
    "## This merges RTP log data (time, temperature, voltage) with XRD data (time from image header)"
   ]
  },
  {
   "cell_type": "markdown",
   "metadata": {},
   "source": [
    "### Define paths etc"
   ]
  },
  {
   "cell_type": "code",
   "execution_count": 1,
   "metadata": {},
   "outputs": [],
   "source": [
    "rtp_temperature = 'Temperature - TC 1' # Name of column in RTP file that holds the temperature\n",
    "rtp_time = 'Time - Set T'\n",
    "rtp_voltage = 'Temperature - Volt'\n",
    "rtp_setT = 'Temperature - Set T'\n",
    "rtp_BLV = 'Temperature - BL V'\n",
    "rtp_csv_path = r'F:\\beamlinedata\\Hypo\\Laura_SbN_RTP\\heatingramps\\Sb3.csv'\n",
    "# rtp_csv_path = r'F:\\beamlinedata\\Hypo\\Laura_SbN_RTP\\heatingramps\\01999-r1c1.csv'\n",
    "image_path = r'F:\\beamlinedata\\Hypo\\Laura_SbN_RTP\\Sb3_500_60s'\n",
    "# to synchronize the time stamps: the time at which \"threshold_col > threshold\" is taken to be simultaneous with the time of the first image\n",
    "threshold_col = 'BLV' \n",
    "threshold = 3.\n",
    "output_path = r'F:\\beamlinedata\\Hypo\\Laura_SbN_RTP\\Sb3_T.csv'"
   ]
  },
  {
   "cell_type": "markdown",
   "metadata": {},
   "source": [
    "### Import and define functions"
   ]
  },
  {
   "cell_type": "code",
   "execution_count": 2,
   "metadata": {},
   "outputs": [
    {
     "name": "stderr",
     "output_type": "stream",
     "text": [
      "C:\\Anaconda2\\envs\\py2\\lib\\site-packages\\h5py\\__init__.py:36: FutureWarning: Conversion of the second argument of issubdtype from `float` to `np.floating` is deprecated. In future, it will be treated as `np.float64 == np.dtype(float).type`.\n",
      "  from ._conv import register_converters as _register_converters\n"
     ]
    }
   ],
   "source": [
    "import pandas as pd\n",
    "import matplotlib.pyplot as plt\n",
    "import numpy as np\n",
    "import glob\n",
    "import os\n",
    "import fabio\n",
    "import datetime\n",
    "    \n",
    "\n",
    "def get_col_from_rtp(df, colname):\n",
    "    i = 0\n",
    "    colname = colname.lower()\n",
    "    while (colname not in str(df.columns.values[i]).lower()) and (i < len(df.columns.values)): \n",
    "        i+=1\n",
    "    return df[df.columns.values[i]]\n",
    "\n",
    "def fix_hour(c):\n",
    "    \"\"\"\n",
    "    RTP time has only min, seconds and ms, no hours, so if the experiments goes across one hour, the time appears to go backwards\n",
    "    this function adds 1 to the hours in that case\n",
    "    \"\"\"\n",
    "    for i in np.arange(len(c)-1)+1:\n",
    "        if int(c[i][:2]) < int(c[i-1][:2]): \n",
    "            c[i:] = '01:' + c[i:]\n",
    "            c[:i] = '00:' + c[:i]\n",
    "            return c\n",
    "    c[:] = '00:' + c[:]\n",
    "    return c\n",
    "\n",
    "def time_from_pilheader(header):\n",
    "    \"\"\"\n",
    "    extracts time from pilatus header\n",
    "    \"\"\"\n",
    "    timestring = str(header['date'].split(' ')[-1]).rstrip('\\0')\n",
    "    return datetime.datetime.strptime(timestring, '%H:%M:%S')\n",
    "\n",
    "def get_image_time(imagename):\n",
    "    header = fabio.open(os.path.join(image_path, imagename)).header\n",
    "    return time_from_pilheader(header)  "
   ]
  },
  {
   "cell_type": "markdown",
   "metadata": {},
   "source": [
    "### Read RTP csv file into database\n"
   ]
  },
  {
   "cell_type": "code",
   "execution_count": 3,
   "metadata": {},
   "outputs": [
    {
     "data": {
      "text/html": [
       "<div>\n",
       "<style scoped>\n",
       "    .dataframe tbody tr th:only-of-type {\n",
       "        vertical-align: middle;\n",
       "    }\n",
       "\n",
       "    .dataframe tbody tr th {\n",
       "        vertical-align: top;\n",
       "    }\n",
       "\n",
       "    .dataframe thead th {\n",
       "        text-align: right;\n",
       "    }\n",
       "</style>\n",
       "<table border=\"1\" class=\"dataframe\">\n",
       "  <thead>\n",
       "    <tr style=\"text-align: right;\">\n",
       "      <th></th>\n",
       "      <th>temperature</th>\n",
       "      <th>setT</th>\n",
       "      <th>BLV</th>\n",
       "    </tr>\n",
       "    <tr>\n",
       "      <th>time</th>\n",
       "      <th></th>\n",
       "      <th></th>\n",
       "      <th></th>\n",
       "    </tr>\n",
       "  </thead>\n",
       "  <tbody>\n",
       "    <tr>\n",
       "      <th>1900-01-01 00:41:58.800</th>\n",
       "      <td>27.1996</td>\n",
       "      <td>15.0</td>\n",
       "      <td>0.003008</td>\n",
       "    </tr>\n",
       "    <tr>\n",
       "      <th>1900-01-01 00:41:58.800</th>\n",
       "      <td>27.2648</td>\n",
       "      <td>15.0</td>\n",
       "      <td>0.002684</td>\n",
       "    </tr>\n",
       "    <tr>\n",
       "      <th>1900-01-01 00:41:59.000</th>\n",
       "      <td>27.4092</td>\n",
       "      <td>15.0</td>\n",
       "      <td>0.003008</td>\n",
       "    </tr>\n",
       "    <tr>\n",
       "      <th>1900-01-01 00:41:59.000</th>\n",
       "      <td>27.2359</td>\n",
       "      <td>15.0</td>\n",
       "      <td>0.002036</td>\n",
       "    </tr>\n",
       "    <tr>\n",
       "      <th>1900-01-01 00:41:59.100</th>\n",
       "      <td>27.3308</td>\n",
       "      <td>15.0</td>\n",
       "      <td>0.003333</td>\n",
       "    </tr>\n",
       "  </tbody>\n",
       "</table>\n",
       "</div>"
      ],
      "text/plain": [
       "                         temperature  setT       BLV\n",
       "time                                                \n",
       "1900-01-01 00:41:58.800      27.1996  15.0  0.003008\n",
       "1900-01-01 00:41:58.800      27.2648  15.0  0.002684\n",
       "1900-01-01 00:41:59.000      27.4092  15.0  0.003008\n",
       "1900-01-01 00:41:59.000      27.2359  15.0  0.002036\n",
       "1900-01-01 00:41:59.100      27.3308  15.0  0.003333"
      ]
     },
     "execution_count": 3,
     "metadata": {},
     "output_type": "execute_result"
    },
    {
     "data": {
      "image/png": "[encoded data removed]",
      "text/plain": [
       "<matplotlib.figure.Figure at 0x22e97f0>"
      ]
     },
     "metadata": {},
     "output_type": "display_data"
    }
   ],
   "source": [
    "rtp_df = pd.read_csv(rtp_csv_path)\n",
    "rtp_df2 = pd.DataFrame()\n",
    "rtp_df2['time'] = get_col_from_rtp(rtp_df, rtp_time)\n",
    "rtp_df2['temperature'] = get_col_from_rtp(rtp_df, rtp_temperature).astype(float)\n",
    "rtp_df2['setT'] = get_col_from_rtp(rtp_df, rtp_setT).astype(float)\n",
    "rtp_df2['BLV'] = get_col_from_rtp(rtp_df, rtp_BLV).astype(float)\n",
    "rtp_df2['time'] = fix_hour(np.array(rtp_df2['time']))\n",
    "rtp_df2.time = pd.to_datetime(rtp_df2['time'], format='%H:%M:%S.%f')\n",
    "rtp_df2 = rtp_df2.set_index('time')\n",
    "rtp_df2.plot(y='BLV')\n",
    "rtp_df2.head()\n"
   ]
  },
  {
   "cell_type": "markdown",
   "metadata": {},
   "source": [
    "### Determine time at which trigger signal comes in"
   ]
  },
  {
   "cell_type": "code",
   "execution_count": 4,
   "metadata": {},
   "outputs": [
    {
     "name": "stdout",
     "output_type": "stream",
     "text": [
      "RTP time when trigger turned on (images started acquiring):  1900-01-01 00:42:04.100000\n"
     ]
    },
    {
     "name": "stderr",
     "output_type": "stream",
     "text": [
      "C:\\Anaconda2\\envs\\py2\\lib\\site-packages\\numpy\\core\\fromnumeric.py:52: FutureWarning: 'argmax' is deprecated. Use 'idxmax' instead. The behavior of 'argmax' will be corrected to return the positional maximum in the future. Use 'series.values.argmax' to get the position of the maximum now.\n",
      "  return getattr(obj, method)(*args, **kwds)\n"
     ]
    }
   ],
   "source": [
    "rtp_steptime = np.argmax(rtp_df2[threshold_col] > threshold) # when df is indexed with time, argmax returns time and not element number\n",
    "print 'RTP time when trigger turned on (images started acquiring): ', rtp_steptime"
   ]
  },
  {
   "cell_type": "markdown",
   "metadata": {},
   "source": [
    "### Read images into database"
   ]
  },
  {
   "cell_type": "code",
   "execution_count": 5,
   "metadata": {},
   "outputs": [
    {
     "data": {
      "text/html": [
       "<div>\n",
       "<style scoped>\n",
       "    .dataframe tbody tr th:only-of-type {\n",
       "        vertical-align: middle;\n",
       "    }\n",
       "\n",
       "    .dataframe tbody tr th {\n",
       "        vertical-align: top;\n",
       "    }\n",
       "\n",
       "    .dataframe thead th {\n",
       "        text-align: right;\n",
       "    }\n",
       "</style>\n",
       "<table border=\"1\" class=\"dataframe\">\n",
       "  <thead>\n",
       "    <tr style=\"text-align: right;\">\n",
       "      <th></th>\n",
       "      <th>imagename</th>\n",
       "      <th>image_basename</th>\n",
       "    </tr>\n",
       "    <tr>\n",
       "      <th>image_time</th>\n",
       "      <th></th>\n",
       "      <th></th>\n",
       "    </tr>\n",
       "  </thead>\n",
       "  <tbody>\n",
       "    <tr>\n",
       "      <th>1900-01-01 14:28:15</th>\n",
       "      <td>F:\\beamlinedata\\Hypo\\Laura_SbN_RTP\\Sb3_500_60s...</td>\n",
       "      <td>Sb_01915_3_500c_1m_144344_00000.tiff</td>\n",
       "    </tr>\n",
       "    <tr>\n",
       "      <th>1900-01-01 14:28:16</th>\n",
       "      <td>F:\\beamlinedata\\Hypo\\Laura_SbN_RTP\\Sb3_500_60s...</td>\n",
       "      <td>Sb_01915_3_500c_1m_144344_00001.tiff</td>\n",
       "    </tr>\n",
       "    <tr>\n",
       "      <th>1900-01-01 14:28:17</th>\n",
       "      <td>F:\\beamlinedata\\Hypo\\Laura_SbN_RTP\\Sb3_500_60s...</td>\n",
       "      <td>Sb_01915_3_500c_1m_144344_00002.tiff</td>\n",
       "    </tr>\n",
       "    <tr>\n",
       "      <th>1900-01-01 14:28:18</th>\n",
       "      <td>F:\\beamlinedata\\Hypo\\Laura_SbN_RTP\\Sb3_500_60s...</td>\n",
       "      <td>Sb_01915_3_500c_1m_144344_00003.tiff</td>\n",
       "    </tr>\n",
       "    <tr>\n",
       "      <th>1900-01-01 14:28:19</th>\n",
       "      <td>F:\\beamlinedata\\Hypo\\Laura_SbN_RTP\\Sb3_500_60s...</td>\n",
       "      <td>Sb_01915_3_500c_1m_144344_00004.tiff</td>\n",
       "    </tr>\n",
       "  </tbody>\n",
       "</table>\n",
       "</div>"
      ],
      "text/plain": [
       "                                                             imagename  \\\n",
       "image_time                                                               \n",
       "1900-01-01 14:28:15  F:\\beamlinedata\\Hypo\\Laura_SbN_RTP\\Sb3_500_60s...   \n",
       "1900-01-01 14:28:16  F:\\beamlinedata\\Hypo\\Laura_SbN_RTP\\Sb3_500_60s...   \n",
       "1900-01-01 14:28:17  F:\\beamlinedata\\Hypo\\Laura_SbN_RTP\\Sb3_500_60s...   \n",
       "1900-01-01 14:28:18  F:\\beamlinedata\\Hypo\\Laura_SbN_RTP\\Sb3_500_60s...   \n",
       "1900-01-01 14:28:19  F:\\beamlinedata\\Hypo\\Laura_SbN_RTP\\Sb3_500_60s...   \n",
       "\n",
       "                                           image_basename  \n",
       "image_time                                                 \n",
       "1900-01-01 14:28:15  Sb_01915_3_500c_1m_144344_00000.tiff  \n",
       "1900-01-01 14:28:16  Sb_01915_3_500c_1m_144344_00001.tiff  \n",
       "1900-01-01 14:28:17  Sb_01915_3_500c_1m_144344_00002.tiff  \n",
       "1900-01-01 14:28:18  Sb_01915_3_500c_1m_144344_00003.tiff  \n",
       "1900-01-01 14:28:19  Sb_01915_3_500c_1m_144344_00004.tiff  "
      ]
     },
     "execution_count": 5,
     "metadata": {},
     "output_type": "execute_result"
    }
   ],
   "source": [
    "image_files = glob.glob(os.path.join(image_path, '*.tif*'))\n",
    "images_df = pd.DataFrame(image_files, columns=['imagename'])\n",
    "images_df['image_basename'] = images_df.imagename.apply(os.path.basename)\n",
    "images_df['image_time'] = images_df.imagename.apply(get_image_time)\n",
    "images_df = images_df.set_index('image_time')\n",
    "images_df.head()\n"
   ]
  },
  {
   "cell_type": "markdown",
   "metadata": {},
   "source": [
    "### Determine time offset between RTP log file and images"
   ]
  },
  {
   "cell_type": "code",
   "execution_count": 6,
   "metadata": {},
   "outputs": [
    {
     "name": "stdout",
     "output_type": "stream",
     "text": [
      "time of first image acc. to header:  1900-01-01T14:28:15.000000000\n",
      "RTP time when trigger turned on (images started acquiring):  1900-01-01 00:42:04.100000\n",
      "time offset:  -1 days +10:13:49.100000\n"
     ]
    }
   ],
   "source": [
    "print 'time of first image acc. to header: ', images_df.index.values[0]\n",
    "print 'RTP time when trigger turned on (images started acquiring): ', rtp_steptime\n",
    "time_offset = rtp_steptime - images_df.index.values[0]\n",
    "print 'time offset: ', time_offset"
   ]
  },
  {
   "cell_type": "markdown",
   "metadata": {},
   "source": [
    "### Add RTP time column to image database"
   ]
  },
  {
   "cell_type": "code",
   "execution_count": 7,
   "metadata": {},
   "outputs": [
    {
     "data": {
      "text/html": [
       "<div>\n",
       "<style scoped>\n",
       "    .dataframe tbody tr th:only-of-type {\n",
       "        vertical-align: middle;\n",
       "    }\n",
       "\n",
       "    .dataframe tbody tr th {\n",
       "        vertical-align: top;\n",
       "    }\n",
       "\n",
       "    .dataframe thead th {\n",
       "        text-align: right;\n",
       "    }\n",
       "</style>\n",
       "<table border=\"1\" class=\"dataframe\">\n",
       "  <thead>\n",
       "    <tr style=\"text-align: right;\">\n",
       "      <th></th>\n",
       "      <th>imagename</th>\n",
       "      <th>image_basename</th>\n",
       "      <th>RTP_time</th>\n",
       "    </tr>\n",
       "    <tr>\n",
       "      <th>image_time</th>\n",
       "      <th></th>\n",
       "      <th></th>\n",
       "      <th></th>\n",
       "    </tr>\n",
       "  </thead>\n",
       "  <tbody>\n",
       "    <tr>\n",
       "      <th>1900-01-01 14:28:15</th>\n",
       "      <td>F:\\beamlinedata\\Hypo\\Laura_SbN_RTP\\Sb3_500_60s...</td>\n",
       "      <td>Sb_01915_3_500c_1m_144344_00000.tiff</td>\n",
       "      <td>1900-01-01 00:42:04.100</td>\n",
       "    </tr>\n",
       "    <tr>\n",
       "      <th>1900-01-01 14:28:16</th>\n",
       "      <td>F:\\beamlinedata\\Hypo\\Laura_SbN_RTP\\Sb3_500_60s...</td>\n",
       "      <td>Sb_01915_3_500c_1m_144344_00001.tiff</td>\n",
       "      <td>1900-01-01 00:42:05.100</td>\n",
       "    </tr>\n",
       "    <tr>\n",
       "      <th>1900-01-01 14:28:17</th>\n",
       "      <td>F:\\beamlinedata\\Hypo\\Laura_SbN_RTP\\Sb3_500_60s...</td>\n",
       "      <td>Sb_01915_3_500c_1m_144344_00002.tiff</td>\n",
       "      <td>1900-01-01 00:42:06.100</td>\n",
       "    </tr>\n",
       "    <tr>\n",
       "      <th>1900-01-01 14:28:18</th>\n",
       "      <td>F:\\beamlinedata\\Hypo\\Laura_SbN_RTP\\Sb3_500_60s...</td>\n",
       "      <td>Sb_01915_3_500c_1m_144344_00003.tiff</td>\n",
       "      <td>1900-01-01 00:42:07.100</td>\n",
       "    </tr>\n",
       "    <tr>\n",
       "      <th>1900-01-01 14:28:19</th>\n",
       "      <td>F:\\beamlinedata\\Hypo\\Laura_SbN_RTP\\Sb3_500_60s...</td>\n",
       "      <td>Sb_01915_3_500c_1m_144344_00004.tiff</td>\n",
       "      <td>1900-01-01 00:42:08.100</td>\n",
       "    </tr>\n",
       "  </tbody>\n",
       "</table>\n",
       "</div>"
      ],
      "text/plain": [
       "                                                             imagename  \\\n",
       "image_time                                                               \n",
       "1900-01-01 14:28:15  F:\\beamlinedata\\Hypo\\Laura_SbN_RTP\\Sb3_500_60s...   \n",
       "1900-01-01 14:28:16  F:\\beamlinedata\\Hypo\\Laura_SbN_RTP\\Sb3_500_60s...   \n",
       "1900-01-01 14:28:17  F:\\beamlinedata\\Hypo\\Laura_SbN_RTP\\Sb3_500_60s...   \n",
       "1900-01-01 14:28:18  F:\\beamlinedata\\Hypo\\Laura_SbN_RTP\\Sb3_500_60s...   \n",
       "1900-01-01 14:28:19  F:\\beamlinedata\\Hypo\\Laura_SbN_RTP\\Sb3_500_60s...   \n",
       "\n",
       "                                           image_basename  \\\n",
       "image_time                                                  \n",
       "1900-01-01 14:28:15  Sb_01915_3_500c_1m_144344_00000.tiff   \n",
       "1900-01-01 14:28:16  Sb_01915_3_500c_1m_144344_00001.tiff   \n",
       "1900-01-01 14:28:17  Sb_01915_3_500c_1m_144344_00002.tiff   \n",
       "1900-01-01 14:28:18  Sb_01915_3_500c_1m_144344_00003.tiff   \n",
       "1900-01-01 14:28:19  Sb_01915_3_500c_1m_144344_00004.tiff   \n",
       "\n",
       "                                   RTP_time  \n",
       "image_time                                   \n",
       "1900-01-01 14:28:15 1900-01-01 00:42:04.100  \n",
       "1900-01-01 14:28:16 1900-01-01 00:42:05.100  \n",
       "1900-01-01 14:28:17 1900-01-01 00:42:06.100  \n",
       "1900-01-01 14:28:18 1900-01-01 00:42:07.100  \n",
       "1900-01-01 14:28:19 1900-01-01 00:42:08.100  "
      ]
     },
     "execution_count": 7,
     "metadata": {},
     "output_type": "execute_result"
    }
   ],
   "source": [
    "images_df['RTP_time'] = images_df.index + time_offset\n",
    "images_df.head()"
   ]
  },
  {
   "cell_type": "markdown",
   "metadata": {},
   "source": [
    "### Merge RTP database and image database"
   ]
  },
  {
   "cell_type": "code",
   "execution_count": 8,
   "metadata": {},
   "outputs": [
    {
     "data": {
      "text/html": [
       "<div>\n",
       "<style scoped>\n",
       "    .dataframe tbody tr th:only-of-type {\n",
       "        vertical-align: middle;\n",
       "    }\n",
       "\n",
       "    .dataframe tbody tr th {\n",
       "        vertical-align: top;\n",
       "    }\n",
       "\n",
       "    .dataframe thead th {\n",
       "        text-align: right;\n",
       "    }\n",
       "</style>\n",
       "<table border=\"1\" class=\"dataframe\">\n",
       "  <thead>\n",
       "    <tr style=\"text-align: right;\">\n",
       "      <th></th>\n",
       "      <th>imagename</th>\n",
       "      <th>image_basename</th>\n",
       "      <th>RTP_time</th>\n",
       "      <th>temperature</th>\n",
       "      <th>setT</th>\n",
       "      <th>BLV</th>\n",
       "    </tr>\n",
       "    <tr>\n",
       "      <th>image_time</th>\n",
       "      <th></th>\n",
       "      <th></th>\n",
       "      <th></th>\n",
       "      <th></th>\n",
       "      <th></th>\n",
       "      <th></th>\n",
       "    </tr>\n",
       "  </thead>\n",
       "  <tbody>\n",
       "    <tr>\n",
       "      <th>1900-01-01 14:28:15</th>\n",
       "      <td>F:\\beamlinedata\\Hypo\\Laura_SbN_RTP\\Sb3_500_60s...</td>\n",
       "      <td>Sb_01915_3_500c_1m_144344_00000.tiff</td>\n",
       "      <td>1900-01-01 00:42:04.100</td>\n",
       "      <td>27.2144</td>\n",
       "      <td>16.5000</td>\n",
       "      <td>4.40545</td>\n",
       "    </tr>\n",
       "    <tr>\n",
       "      <th>1900-01-01 14:28:16</th>\n",
       "      <td>F:\\beamlinedata\\Hypo\\Laura_SbN_RTP\\Sb3_500_60s...</td>\n",
       "      <td>Sb_01915_3_500c_1m_144344_00001.tiff</td>\n",
       "      <td>1900-01-01 00:42:05.100</td>\n",
       "      <td>27.4131</td>\n",
       "      <td>31.0638</td>\n",
       "      <td>4.39443</td>\n",
       "    </tr>\n",
       "    <tr>\n",
       "      <th>1900-01-01 14:28:17</th>\n",
       "      <td>F:\\beamlinedata\\Hypo\\Laura_SbN_RTP\\Sb3_500_60s...</td>\n",
       "      <td>Sb_01915_3_500c_1m_144344_00002.tiff</td>\n",
       "      <td>1900-01-01 00:42:06.100</td>\n",
       "      <td>27.3957</td>\n",
       "      <td>41.7021</td>\n",
       "      <td>4.39670</td>\n",
       "    </tr>\n",
       "    <tr>\n",
       "      <th>1900-01-01 14:28:18</th>\n",
       "      <td>F:\\beamlinedata\\Hypo\\Laura_SbN_RTP\\Sb3_500_60s...</td>\n",
       "      <td>Sb_01915_3_500c_1m_144344_00003.tiff</td>\n",
       "      <td>1900-01-01 00:42:07.100</td>\n",
       "      <td>27.6693</td>\n",
       "      <td>52.3404</td>\n",
       "      <td>4.39929</td>\n",
       "    </tr>\n",
       "    <tr>\n",
       "      <th>1900-01-01 14:28:19</th>\n",
       "      <td>F:\\beamlinedata\\Hypo\\Laura_SbN_RTP\\Sb3_500_60s...</td>\n",
       "      <td>Sb_01915_3_500c_1m_144344_00004.tiff</td>\n",
       "      <td>1900-01-01 00:42:08.100</td>\n",
       "      <td>32.7623</td>\n",
       "      <td>62.9787</td>\n",
       "      <td>4.39540</td>\n",
       "    </tr>\n",
       "  </tbody>\n",
       "</table>\n",
       "</div>"
      ],
      "text/plain": [
       "                                                             imagename  \\\n",
       "image_time                                                               \n",
       "1900-01-01 14:28:15  F:\\beamlinedata\\Hypo\\Laura_SbN_RTP\\Sb3_500_60s...   \n",
       "1900-01-01 14:28:16  F:\\beamlinedata\\Hypo\\Laura_SbN_RTP\\Sb3_500_60s...   \n",
       "1900-01-01 14:28:17  F:\\beamlinedata\\Hypo\\Laura_SbN_RTP\\Sb3_500_60s...   \n",
       "1900-01-01 14:28:18  F:\\beamlinedata\\Hypo\\Laura_SbN_RTP\\Sb3_500_60s...   \n",
       "1900-01-01 14:28:19  F:\\beamlinedata\\Hypo\\Laura_SbN_RTP\\Sb3_500_60s...   \n",
       "\n",
       "                                           image_basename  \\\n",
       "image_time                                                  \n",
       "1900-01-01 14:28:15  Sb_01915_3_500c_1m_144344_00000.tiff   \n",
       "1900-01-01 14:28:16  Sb_01915_3_500c_1m_144344_00001.tiff   \n",
       "1900-01-01 14:28:17  Sb_01915_3_500c_1m_144344_00002.tiff   \n",
       "1900-01-01 14:28:18  Sb_01915_3_500c_1m_144344_00003.tiff   \n",
       "1900-01-01 14:28:19  Sb_01915_3_500c_1m_144344_00004.tiff   \n",
       "\n",
       "                                   RTP_time  temperature     setT      BLV  \n",
       "image_time                                                                  \n",
       "1900-01-01 14:28:15 1900-01-01 00:42:04.100      27.2144  16.5000  4.40545  \n",
       "1900-01-01 14:28:16 1900-01-01 00:42:05.100      27.4131  31.0638  4.39443  \n",
       "1900-01-01 14:28:17 1900-01-01 00:42:06.100      27.3957  41.7021  4.39670  \n",
       "1900-01-01 14:28:18 1900-01-01 00:42:07.100      27.6693  52.3404  4.39929  \n",
       "1900-01-01 14:28:19 1900-01-01 00:42:08.100      32.7623  62.9787  4.39540  "
      ]
     },
     "execution_count": 8,
     "metadata": {},
     "output_type": "execute_result"
    }
   ],
   "source": [
    "df = images_df.join(rtp_df2, on='RTP_time')\n",
    "df.head()"
   ]
  },
  {
   "cell_type": "markdown",
   "metadata": {},
   "source": [
    "### Add column for relative time"
   ]
  },
  {
   "cell_type": "code",
   "execution_count": 9,
   "metadata": {},
   "outputs": [
    {
     "data": {
      "text/html": [
       "<div>\n",
       "<style scoped>\n",
       "    .dataframe tbody tr th:only-of-type {\n",
       "        vertical-align: middle;\n",
       "    }\n",
       "\n",
       "    .dataframe tbody tr th {\n",
       "        vertical-align: top;\n",
       "    }\n",
       "\n",
       "    .dataframe thead th {\n",
       "        text-align: right;\n",
       "    }\n",
       "</style>\n",
       "<table border=\"1\" class=\"dataframe\">\n",
       "  <thead>\n",
       "    <tr style=\"text-align: right;\">\n",
       "      <th></th>\n",
       "      <th>time relative in s</th>\n",
       "      <th>imagename</th>\n",
       "      <th>image_basename</th>\n",
       "      <th>RTP_time</th>\n",
       "      <th>temperature</th>\n",
       "      <th>setT</th>\n",
       "      <th>BLV</th>\n",
       "    </tr>\n",
       "    <tr>\n",
       "      <th>image_time</th>\n",
       "      <th></th>\n",
       "      <th></th>\n",
       "      <th></th>\n",
       "      <th></th>\n",
       "      <th></th>\n",
       "      <th></th>\n",
       "      <th></th>\n",
       "    </tr>\n",
       "  </thead>\n",
       "  <tbody>\n",
       "    <tr>\n",
       "      <th>1900-01-01 14:28:15</th>\n",
       "      <td>0</td>\n",
       "      <td>F:\\beamlinedata\\Hypo\\Laura_SbN_RTP\\Sb3_500_60s...</td>\n",
       "      <td>Sb_01915_3_500c_1m_144344_00000.tiff</td>\n",
       "      <td>1900-01-01 00:42:04.100</td>\n",
       "      <td>27.2144</td>\n",
       "      <td>16.5000</td>\n",
       "      <td>4.40545</td>\n",
       "    </tr>\n",
       "    <tr>\n",
       "      <th>1900-01-01 14:28:16</th>\n",
       "      <td>1</td>\n",
       "      <td>F:\\beamlinedata\\Hypo\\Laura_SbN_RTP\\Sb3_500_60s...</td>\n",
       "      <td>Sb_01915_3_500c_1m_144344_00001.tiff</td>\n",
       "      <td>1900-01-01 00:42:05.100</td>\n",
       "      <td>27.4131</td>\n",
       "      <td>31.0638</td>\n",
       "      <td>4.39443</td>\n",
       "    </tr>\n",
       "    <tr>\n",
       "      <th>1900-01-01 14:28:17</th>\n",
       "      <td>2</td>\n",
       "      <td>F:\\beamlinedata\\Hypo\\Laura_SbN_RTP\\Sb3_500_60s...</td>\n",
       "      <td>Sb_01915_3_500c_1m_144344_00002.tiff</td>\n",
       "      <td>1900-01-01 00:42:06.100</td>\n",
       "      <td>27.3957</td>\n",
       "      <td>41.7021</td>\n",
       "      <td>4.39670</td>\n",
       "    </tr>\n",
       "    <tr>\n",
       "      <th>1900-01-01 14:28:18</th>\n",
       "      <td>3</td>\n",
       "      <td>F:\\beamlinedata\\Hypo\\Laura_SbN_RTP\\Sb3_500_60s...</td>\n",
       "      <td>Sb_01915_3_500c_1m_144344_00003.tiff</td>\n",
       "      <td>1900-01-01 00:42:07.100</td>\n",
       "      <td>27.6693</td>\n",
       "      <td>52.3404</td>\n",
       "      <td>4.39929</td>\n",
       "    </tr>\n",
       "    <tr>\n",
       "      <th>1900-01-01 14:28:19</th>\n",
       "      <td>4</td>\n",
       "      <td>F:\\beamlinedata\\Hypo\\Laura_SbN_RTP\\Sb3_500_60s...</td>\n",
       "      <td>Sb_01915_3_500c_1m_144344_00004.tiff</td>\n",
       "      <td>1900-01-01 00:42:08.100</td>\n",
       "      <td>32.7623</td>\n",
       "      <td>62.9787</td>\n",
       "      <td>4.39540</td>\n",
       "    </tr>\n",
       "  </tbody>\n",
       "</table>\n",
       "</div>"
      ],
      "text/plain": [
       "                     time relative in s  \\\n",
       "image_time                                \n",
       "1900-01-01 14:28:15                   0   \n",
       "1900-01-01 14:28:16                   1   \n",
       "1900-01-01 14:28:17                   2   \n",
       "1900-01-01 14:28:18                   3   \n",
       "1900-01-01 14:28:19                   4   \n",
       "\n",
       "                                                             imagename  \\\n",
       "image_time                                                               \n",
       "1900-01-01 14:28:15  F:\\beamlinedata\\Hypo\\Laura_SbN_RTP\\Sb3_500_60s...   \n",
       "1900-01-01 14:28:16  F:\\beamlinedata\\Hypo\\Laura_SbN_RTP\\Sb3_500_60s...   \n",
       "1900-01-01 14:28:17  F:\\beamlinedata\\Hypo\\Laura_SbN_RTP\\Sb3_500_60s...   \n",
       "1900-01-01 14:28:18  F:\\beamlinedata\\Hypo\\Laura_SbN_RTP\\Sb3_500_60s...   \n",
       "1900-01-01 14:28:19  F:\\beamlinedata\\Hypo\\Laura_SbN_RTP\\Sb3_500_60s...   \n",
       "\n",
       "                                           image_basename  \\\n",
       "image_time                                                  \n",
       "1900-01-01 14:28:15  Sb_01915_3_500c_1m_144344_00000.tiff   \n",
       "1900-01-01 14:28:16  Sb_01915_3_500c_1m_144344_00001.tiff   \n",
       "1900-01-01 14:28:17  Sb_01915_3_500c_1m_144344_00002.tiff   \n",
       "1900-01-01 14:28:18  Sb_01915_3_500c_1m_144344_00003.tiff   \n",
       "1900-01-01 14:28:19  Sb_01915_3_500c_1m_144344_00004.tiff   \n",
       "\n",
       "                                   RTP_time  temperature     setT      BLV  \n",
       "image_time                                                                  \n",
       "1900-01-01 14:28:15 1900-01-01 00:42:04.100      27.2144  16.5000  4.40545  \n",
       "1900-01-01 14:28:16 1900-01-01 00:42:05.100      27.4131  31.0638  4.39443  \n",
       "1900-01-01 14:28:17 1900-01-01 00:42:06.100      27.3957  41.7021  4.39670  \n",
       "1900-01-01 14:28:18 1900-01-01 00:42:07.100      27.6693  52.3404  4.39929  \n",
       "1900-01-01 14:28:19 1900-01-01 00:42:08.100      32.7623  62.9787  4.39540  "
      ]
     },
     "execution_count": 9,
     "metadata": {},
     "output_type": "execute_result"
    }
   ],
   "source": [
    "df.insert(0, 'time relative in s', df.RTP_time.apply(lambda x: x-df.RTP_time[0]))\n",
    "df['time relative in s'] = df['time relative in s'].apply(lambda x: x.seconds)\n",
    "df.head()"
   ]
  },
  {
   "cell_type": "markdown",
   "metadata": {},
   "source": [
    "### Write to csv"
   ]
  },
  {
   "cell_type": "code",
   "execution_count": 10,
   "metadata": {},
   "outputs": [
    {
     "name": "stdout",
     "output_type": "stream",
     "text": [
      "file written to  F:\\beamlinedata\\Hypo\\Laura_SbN_RTP\\Sb3_T.csv\n"
     ]
    }
   ],
   "source": [
    "df.to_csv(output_path)\n",
    "print 'file written to ', output_path"
   ]
  }
 ],
 "metadata": {
  "kernelspec": {
   "display_name": "Python [conda env:py2]",
   "language": "python",
   "name": "conda-env-py2-py"
  },
  "language_info": {
   "codemirror_mode": {
    "name": "ipython",
    "version": 2
   },
   "file_extension": ".py",
   "mimetype": "text/x-python",
   "name": "python",
   "nbconvert_exporter": "python",
   "pygments_lexer": "ipython2",
   "version": "2.7.14"
  }
 },
 "nbformat": 4,
 "nbformat_minor": 2
}
